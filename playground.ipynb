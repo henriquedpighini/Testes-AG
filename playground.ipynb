{
 "cells": [
  {
   "cell_type": "code",
   "execution_count": 1,
   "metadata": {},
   "outputs": [],
   "source": [
    "import pandas as pd\n",
    "import numpy as np\n",
    "import random\n",
    "from sklearn import preprocessing"
   ]
  },
  {
   "cell_type": "code",
   "execution_count": 4,
   "metadata": {},
   "outputs": [],
   "source": [
    "def load_df():\n",
    "    label_encoder = preprocessing.LabelEncoder()\n",
    "    df = pd.read_csv(\n",
    "        'https://raw.githubusercontent.com/rcpsilva/MLBenchmarks/main/MLBenchmarks/datasets/Classification/breast+cancer+wisconsin+diagnostic/wdbc.data',\n",
    "        header=None)\n",
    "    df = df.dropna()\n",
    "\n",
    "    cat = df.select_dtypes(exclude=['number'])\n",
    "\n",
    "    for col in cat.columns:\n",
    "        df[col] = label_encoder.fit_transform(df[col])\n",
    "\n",
    "    df = df.to_numpy()\n",
    "    target = df[:, 1]\n",
    "    data = df[:, 2:-1]\n",
    "\n",
    "    dataset = {'target': target,\n",
    "               'data': data,\n",
    "               'info': 'https://archive.ics.uci.edu/dataset/17/breast+cancer+wisconsin+diagnostic',\n",
    "               'date_access': '2023-10-19'}\n",
    "\n",
    "    return dataset"
   ]
  },
  {
   "cell_type": "code",
   "execution_count": 5,
   "metadata": {},
   "outputs": [
    {
     "data": {
      "text/plain": [
       "array([[ 17.99  ,  10.38  , 122.8   , ...,   0.7119,   0.2654,   0.4601],\n",
       "       [ 20.57  ,  17.77  , 132.9   , ...,   0.2416,   0.186 ,   0.275 ],\n",
       "       [ 19.69  ,  21.25  , 130.    , ...,   0.4504,   0.243 ,   0.3613],\n",
       "       ...,\n",
       "       [ 16.6   ,  28.08  , 108.3   , ...,   0.3403,   0.1418,   0.2218],\n",
       "       [ 20.6   ,  29.33  , 140.1   , ...,   0.9387,   0.265 ,   0.4087],\n",
       "       [  7.76  ,  24.54  ,  47.92  , ...,   0.    ,   0.    ,   0.2871]])"
      ]
     },
     "metadata": {},
     "output_type": "display_data"
    }
   ],
   "source": [
    "df = load_df()\n",
    "display(df['data'])"
   ]
  }
 ],
 "metadata": {
  "kernelspec": {
   "display_name": "base",
   "language": "python",
   "name": "python3"
  },
  "language_info": {
   "codemirror_mode": {
    "name": "ipython",
    "version": 3
   },
   "file_extension": ".py",
   "mimetype": "text/x-python",
   "name": "python",
   "nbconvert_exporter": "python",
   "pygments_lexer": "ipython3",
   "version": "3.11.5"
  }
 },
 "nbformat": 4,
 "nbformat_minor": 2
}
